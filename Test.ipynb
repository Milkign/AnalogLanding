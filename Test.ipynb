﻿{
 "cells": [
  {
   "cell_type": "code",
   "execution_count": null,
   "metadata": {},
   "outputs": [
    {
     "name": "stdout",
     "output_type": "stream",
     "text": [
      "===E:\\Anaconda\\lib\\site-packages\\ipykernel_launcher.py start===2018-03-06 21:57:39\n",
      "VdCodePic Saved!\n",
      "please input your username: 13149882217\n",
      "please input your password: LIjingwen63\n"
     ]
    }
   ],
   "source": [
    "# 模拟登录b站成功后,获取个人关注动态的视频信息\n",
    
    "import urllib\n",
    "# urllib2是一个标准库，安装python之后就自带了，并且只在于python2中\n",
    "# 在python3中，已经把urllib，urllib2等的合并为一个包urllib了。\n",
    "import datetime\n",
    "import sys\n",
    "import http.cookiejar\n",
    "# Python中cookielib库(python3中为http.cookiejar)\n",
    "import json\n",
    "\n",
    "\n",
    "#     1、在python2.x中raw_input( )和input( )，两个函数都存在，其中区别为\n",
    "\n",
    "#     raw_input( )---将所有输入作为字符串看待，返回字符串类型\n",
    "\n",
    "#     input( )-----只能接收“数字”的输入，在对待纯数字输入时具有自己的特性，它返回所输入的数字的类型（ int, float ）\n",
    "\n",
    "\n",
    "#     2、在python3.x中raw_input( )和input( )进行了整合，去除了raw_input( )，仅保留了input( )函数，其接收任意任性输入，将所有输入默认为字符串处理，并返回字符串类型。\n",
    "\n",
    "#####################全局变量###########################################\n",
    "\n",
    "today = datetime.datetime.today()\n",
    "todayStr = datetime.datetime.strftime(today, \"%Y-%m-%d\")\n",
    "lastDayDate = today - datetime.timedelta(1)\n",
    "lastDayDateStr = datetime.datetime.strftime(lastDayDate, \"%Y-%m-%d\")\n",
    "picname=\"vdcode.png\"\n",
    "vdUrl=\"https://account.bilibili.com/captcha\"\n",
    "goLoginUrl=\"https://account.bilibili.com/login\"\n",
    "loginUrl=\"https://account.bilibili.com/login/dologin\"\n",
    "accountUrl=\"http://account.bilibili.cn/crossDomain?Expires=604800&DedeUserID=7385982&DedeUserID__ckMd5=258b1b7cb17d993c&SESSDATA=c4090d71,1450773446,55659e39&gourl=http://www.bilibili.com/\"\n",
    "mainUrl=\"http://www.bilibili.com/\"\n",
    "memberUrl=\"http://member.bilibili.com\"\n",
    "#################################################################\n",
    "\n",
    "def getVdCode():\n",
    "    '''获取验证码图片'''\n",
  "    '''处理cookie'''\n",
    "    cj = http.cookiejar.CookieJar()\n",
    "    opener = urllib.request.build_opener(urllib.request.HTTPCookieProcessor(cj))\n",
    "    urllib.request.install_opener(opener)\n",
    "\n",
    "def toLogin():\n",
    "    '''进入登录页面'''\n",
    "    resp = urllib.request.urlopen(goLoginUrl)\n",
    "    html = resp.read().decode('utf-8').encode('gbk')\n",
    "\n",
    "def login():\n",
    "    '''开始登录'''\n",
    "    username=input(\"please input your username: \")\n",
    "    password=input(\"please input your password: \")\n",
    "    vdcode=input(\"please input your vdcode: \")\n",
    "    # 登录\n",
    "    postDict = {\n",
    "        'userid'      :username,\n",
    "        'pwd'      : password,\n",
    "        'vdcode'   : vdcode\n",
    "    }\n",
    "    postData = urllib.urlencode(postDict)\n",
    "    req = urllib.Request(loginUrl, postData)\n",
    "\n",
    "    urllib.urlopen(req)\n",
    "    urllib.urlopen(memberUrl)\n",
    "    resp=urllib.urlopen(\"http://member.bilibili.com/index.do?act=dynamic&page=1\")\n",
    "\n",
    "    #开始解析Python数据\n",
    "    resp = resp.read().decode('utf-8').encode('gbk')\n",
    "    data = json.loads(resp)\n",
    "    print ('------------------------------------------------')\n",
    "    for i in range(10):\n",
    "        print (data[str(i)]['time_at'])\n",
    "        print (data[str(i)]['uname']+': '+data[str(i)]['title'])\n",
    "        #因为播放数是数字,所以要转成字符串\n",
    "        print ('播放数: '.decode('utf-8')+str(data[str(i)]['play']))\n",
    "        print ('------------------------------------------------')\n",
    "\n",
    "def main():\n",
    "    print (\"===%s start===%s\"%(sys.argv[0], datetime.datetime.strftime(datetime.datetime.now(), \"%Y-%m-%d %H:%M:%S\")))\n",
    "    dealCookie()\n",
    "    toLogin()\n",
    "    getVdCode()\n",
    "    login()\n",
    "    print (\"===%s end===%s\"%(sys.argv[0], datetime.datetime.strftime(datetime.datetime.now(), \"%Y-%m-%d %H:%M:%S\")))\n",
    "\n",
    "#################################################################################\n",
    "if __name__ == \"__main__\":\n",
    "    main()\n",
    " "
   ]
  },
  {
   "cell_type": "code",
   "execution_count": null,
   "metadata": {
    "collapsed": true
   },
   "outputs": [],
   "source": []
  }
 ],
 "metadata": {
  "kernelspec": {
   "display_name": "Python 3",
   "language": "python",
   "name": "python3"
  },
  "language_info": {
   "codemirror_mode": {
    "name": "ipython",
    "version": 3
   },
   "file_extension": ".py",
   "mimetype": "text/x-python",
   "name": "python",
   "nbconvert_exporter": "python",
   "pygments_lexer": "ipython3",
   "version": "3.6.1"
  }
 },
 "nbformat": 4,
 "nbformat_minor": 2
}
