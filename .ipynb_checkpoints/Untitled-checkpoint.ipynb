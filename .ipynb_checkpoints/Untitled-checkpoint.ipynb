{
 "cells": [
  {
   "cell_type": "code",
   "execution_count": 10,
   "metadata": {},
   "outputs": [
    {
     "name": "stdout",
     "output_type": "stream",
     "text": [
      "===E:\\Anaconda\\lib\\site-packages\\ipykernel_launcher.py start===2018-03-06 21:55:10\n"
     ]
    },
    {
     "ename": "AttributeError",
     "evalue": "module 'urllib' has no attribute 'urlopen'",
     "output_type": "error",
     "traceback": [
      "\u001b[1;31m---------------------------------------------------------------------------\u001b[0m",
      "\u001b[1;31mAttributeError\u001b[0m                            Traceback (most recent call last)",
      "\u001b[1;32m<ipython-input-10-e4c7a64d42c2>\u001b[0m in \u001b[0;36m<module>\u001b[1;34m()\u001b[0m\n\u001b[0;32m     83\u001b[0m \u001b[1;31m#################################################################################\u001b[0m\u001b[1;33m\u001b[0m\u001b[1;33m\u001b[0m\u001b[0m\n\u001b[0;32m     84\u001b[0m \u001b[1;32mif\u001b[0m \u001b[0m__name__\u001b[0m \u001b[1;33m==\u001b[0m \u001b[1;34m\"__main__\"\u001b[0m\u001b[1;33m:\u001b[0m\u001b[1;33m\u001b[0m\u001b[0m\n\u001b[1;32m---> 85\u001b[1;33m     \u001b[0mmain\u001b[0m\u001b[1;33m(\u001b[0m\u001b[1;33m)\u001b[0m\u001b[1;33m\u001b[0m\u001b[0m\n\u001b[0m\u001b[0;32m     86\u001b[0m \u001b[1;33m\u001b[0m\u001b[0m\n",
      "\u001b[1;32m<ipython-input-10-e4c7a64d42c2>\u001b[0m in \u001b[0;36mmain\u001b[1;34m()\u001b[0m\n\u001b[0;32m     77\u001b[0m     \u001b[0mdealCookie\u001b[0m\u001b[1;33m(\u001b[0m\u001b[1;33m)\u001b[0m\u001b[1;33m\u001b[0m\u001b[0m\n\u001b[0;32m     78\u001b[0m     \u001b[0mtoLogin\u001b[0m\u001b[1;33m(\u001b[0m\u001b[1;33m)\u001b[0m\u001b[1;33m\u001b[0m\u001b[0m\n\u001b[1;32m---> 79\u001b[1;33m     \u001b[0mgetVdCode\u001b[0m\u001b[1;33m(\u001b[0m\u001b[1;33m)\u001b[0m\u001b[1;33m\u001b[0m\u001b[0m\n\u001b[0m\u001b[0;32m     80\u001b[0m     \u001b[0mlogin\u001b[0m\u001b[1;33m(\u001b[0m\u001b[1;33m)\u001b[0m\u001b[1;33m\u001b[0m\u001b[0m\n\u001b[0;32m     81\u001b[0m     \u001b[0mprint\u001b[0m \u001b[1;33m(\u001b[0m\u001b[1;34m\"===%s end===%s\"\u001b[0m\u001b[1;33m%\u001b[0m\u001b[1;33m(\u001b[0m\u001b[0msys\u001b[0m\u001b[1;33m.\u001b[0m\u001b[0margv\u001b[0m\u001b[1;33m[\u001b[0m\u001b[1;36m0\u001b[0m\u001b[1;33m]\u001b[0m\u001b[1;33m,\u001b[0m \u001b[0mdatetime\u001b[0m\u001b[1;33m.\u001b[0m\u001b[0mdatetime\u001b[0m\u001b[1;33m.\u001b[0m\u001b[0mstrftime\u001b[0m\u001b[1;33m(\u001b[0m\u001b[0mdatetime\u001b[0m\u001b[1;33m.\u001b[0m\u001b[0mdatetime\u001b[0m\u001b[1;33m.\u001b[0m\u001b[0mnow\u001b[0m\u001b[1;33m(\u001b[0m\u001b[1;33m)\u001b[0m\u001b[1;33m,\u001b[0m \u001b[1;34m\"%Y-%m-%d %H:%M:%S\"\u001b[0m\u001b[1;33m)\u001b[0m\u001b[1;33m)\u001b[0m\u001b[1;33m)\u001b[0m\u001b[1;33m\u001b[0m\u001b[0m\n",
      "\u001b[1;32m<ipython-input-10-e4c7a64d42c2>\u001b[0m in \u001b[0;36mgetVdCode\u001b[1;34m()\u001b[0m\n\u001b[0;32m     27\u001b[0m \u001b[1;32mdef\u001b[0m \u001b[0mgetVdCode\u001b[0m\u001b[1;33m(\u001b[0m\u001b[1;33m)\u001b[0m\u001b[1;33m:\u001b[0m\u001b[1;33m\u001b[0m\u001b[0m\n\u001b[0;32m     28\u001b[0m     \u001b[1;34m'''获取验证码图片'''\u001b[0m\u001b[1;33m\u001b[0m\u001b[0m\n\u001b[1;32m---> 29\u001b[1;33m     \u001b[0mresp\u001b[0m\u001b[1;33m=\u001b[0m\u001b[0murllib\u001b[0m\u001b[1;33m.\u001b[0m\u001b[0murlopen\u001b[0m\u001b[1;33m(\u001b[0m\u001b[0mvdUrl\u001b[0m\u001b[1;33m)\u001b[0m\u001b[1;33m\u001b[0m\u001b[0m\n\u001b[0m\u001b[0;32m     30\u001b[0m     \u001b[0mf\u001b[0m \u001b[1;33m=\u001b[0m \u001b[0mopen\u001b[0m\u001b[1;33m(\u001b[0m\u001b[0mpicname\u001b[0m\u001b[1;33m,\u001b[0m \u001b[1;34m'wb'\u001b[0m\u001b[1;33m)\u001b[0m\u001b[1;33m\u001b[0m\u001b[0m\n\u001b[0;32m     31\u001b[0m     \u001b[0mf\u001b[0m\u001b[1;33m.\u001b[0m\u001b[0mwrite\u001b[0m\u001b[1;33m(\u001b[0m\u001b[0mresp\u001b[0m\u001b[1;33m.\u001b[0m\u001b[0mread\u001b[0m\u001b[1;33m(\u001b[0m\u001b[1;33m)\u001b[0m\u001b[1;33m)\u001b[0m\u001b[1;33m\u001b[0m\u001b[0m\n",
      "\u001b[1;31mAttributeError\u001b[0m: module 'urllib' has no attribute 'urlopen'"
     ]
    }
   ],
   "source": [
    "###############################################################\n",
    "# 功能：模拟登录b站成功后,获取个人关注动态的视频信息\n",
    "###############################################################\n",
    "import urllib\n",
    "# urllib2是一个标准库，安装python之后就自带了，并且只在于python2中\n",
    "# 在python3中，已经把urllib，urllib2等的合并为一个包urllib了。\n",
    "import datetime\n",
    "import sys\n",
    "import http.cookiejar\n",
    "# Python中cookielib库(python3中为http.cookiejar)\n",
    "import json\n",
    "#####################全局变量###########################################\n",
    "\n",
    "today = datetime.datetime.today()\n",
    "todayStr = datetime.datetime.strftime(today, \"%Y-%m-%d\")\n",
    "lastDayDate = today - datetime.timedelta(1)\n",
    "lastDayDateStr = datetime.datetime.strftime(lastDayDate, \"%Y-%m-%d\")\n",
    "picname=\"vdcode.png\"\n",
    "vdUrl=\"https://account.bilibili.com/captcha\"\n",
    "goLoginUrl=\"https://account.bilibili.com/login\"\n",
    "loginUrl=\"https://account.bilibili.com/login/dologin\"\n",
    "accountUrl=\"http://account.bilibili.cn/crossDomain?Expires=604800&DedeUserID=7385982&DedeUserID__ckMd5=258b1b7cb17d993c&SESSDATA=c4090d71,1450773446,55659e39&gourl=http://www.bilibili.com/\"\n",
    "mainUrl=\"http://www.bilibili.com/\"\n",
    "memberUrl=\"http://member.bilibili.com\"\n",
    "#################################################################\n",
    "\n",
    "def getVdCode():\n",
    "    '''获取验证码图片'''\n",
    "    resp=urllib.request.urlopen(vdUrl)\n",
    "    f = open(picname, 'wb')\n",
    "    f.write(resp.read())\n",
    "    f.close()\n",
    "    print('VdCodePic Saved!')\n",
    "\n",
    "def dealCookie():\n",
    "    '''处理cookie'''\n",
    "    cj = http.cookiejar.CookieJar()\n",
    "    opener = urllib.request.build_opener(urllib.request.HTTPCookieProcessor(cj))\n",
    "    urllib.request.install_opener(opener)\n",
    "\n",
    "def toLogin():\n",
    "    '''进入登录页面'''\n",
    "    resp = urllib.request.urlopen(goLoginUrl)\n",
    "    html = resp.read().decode('utf-8').encode('gbk')\n",
    "\n",
    "def login():\n",
    "    '''开始登录'''\n",
    "    username=raw_input(\"please input your username: \")\n",
    "    password=raw_input(\"please input your password: \")\n",
    "    vdcode = raw_input(\"please input your vdcode: \")\n",
    "    # 登录\n",
    "    postDict = {\n",
    "        'userid'      :username,\n",
    "        'pwd'      : password,\n",
    "        'vdcode'   : vdcode\n",
    "    }\n",
    "    postData = urllib.urlencode(postDict)\n",
    "    req = urllib.Request(loginUrl, postData)\n",
    "\n",
    "    urllib.urlopen(req)\n",
    "    urllib.urlopen(memberUrl)\n",
    "    resp=urllib.urlopen(\"http://member.bilibili.com/index.do?act=dynamic&page=1\")\n",
    "\n",
    "    #开始解析Python数据\n",
    "    resp = resp.read().decode('utf-8').encode('gbk')\n",
    "    data = json.loads(resp)\n",
    "    print ('------------------------------------------------')\n",
    "    for i in range(10):\n",
    "        print (data[str(i)]['time_at'])\n",
    "        print (data[str(i)]['uname']+': '+data[str(i)]['title'])\n",
    "        #因为播放数是数字,所以要转成字符串\n",
    "        print ('播放数: '.decode('utf-8')+str(data[str(i)]['play']))\n",
    "        print ('------------------------------------------------')\n",
    "\n",
    "def main():\n",
    "    print (\"===%s start===%s\"%(sys.argv[0], datetime.datetime.strftime(datetime.datetime.now(), \"%Y-%m-%d %H:%M:%S\")))\n",
    "    dealCookie()\n",
    "    toLogin()\n",
    "    getVdCode()\n",
    "    login()\n",
    "    print (\"===%s end===%s\"%(sys.argv[0], datetime.datetime.strftime(datetime.datetime.now(), \"%Y-%m-%d %H:%M:%S\")))\n",
    "\n",
    "#################################################################################\n",
    "if __name__ == \"__main__\":\n",
    "    main()\n",
    " "
   ]
  },
  {
   "cell_type": "code",
   "execution_count": null,
   "metadata": {
    "collapsed": true
   },
   "outputs": [],
   "source": []
  }
 ],
 "metadata": {
  "kernelspec": {
   "display_name": "Python 3",
   "language": "python",
   "name": "python3"
  },
  "language_info": {
   "codemirror_mode": {
    "name": "ipython",
    "version": 3
   },
   "file_extension": ".py",
   "mimetype": "text/x-python",
   "name": "python",
   "nbconvert_exporter": "python",
   "pygments_lexer": "ipython3",
   "version": "3.6.1"
  }
 },
 "nbformat": 4,
 "nbformat_minor": 2
}
